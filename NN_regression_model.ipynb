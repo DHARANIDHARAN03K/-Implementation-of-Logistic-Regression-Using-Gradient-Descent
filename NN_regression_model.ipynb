{
  "nbformat": 4,
  "nbformat_minor": 0,
  "metadata": {
    "colab": {
      "provenance": [],
      "include_colab_link": true
    },
    "kernelspec": {
      "name": "python3",
      "display_name": "Python 3"
    },
    "language_info": {
      "name": "python"
    }
  },
  "cells": [
    {
      "cell_type": "markdown",
      "metadata": {
        "id": "view-in-github",
        "colab_type": "text"
      },
      "source": [
        "<a href=\"https://colab.research.google.com/github/DHARANIDHARAN03K/-Implementation-of-Logistic-Regression-Using-Gradient-Descent/blob/main/NN_regression_model.ipynb\" target=\"_parent\"><img src=\"https://colab.research.google.com/assets/colab-badge.svg\" alt=\"Open In Colab\"/></a>"
      ]
    },
    {
      "cell_type": "code",
      "execution_count": 1,
      "metadata": {
        "id": "VJOBET7aZuAs"
      },
      "outputs": [],
      "source": [
        "import torch\n",
        "import torch.nn as nn\n",
        "import torch.optim as optim\n",
        "import pandas as pd\n",
        "from sklearn.model_selection import train_test_split\n",
        "from sklearn.preprocessing import MinMaxScaler"
      ]
    },
    {
      "cell_type": "code",
      "source": [
        "dataset1 = pd.read_csv('/content/dataset.csv')\n",
        "X = dataset1[['x']].values\n",
        "y = dataset1[['y']].values"
      ],
      "metadata": {
        "id": "PaKxT9lYZ7_r"
      },
      "execution_count": 2,
      "outputs": []
    },
    {
      "cell_type": "code",
      "source": [
        "X_train, X_test, y_train, y_test = train_test_split(X, y, test_size=0.33, random_state=33)"
      ],
      "metadata": {
        "id": "0s9XNKnraBB1"
      },
      "execution_count": 3,
      "outputs": []
    },
    {
      "cell_type": "code",
      "source": [
        "scaler = MinMaxScaler()\n",
        "X_train = scaler.fit_transform(X_train)\n",
        "X_test = scaler.transform(X_test)"
      ],
      "metadata": {
        "id": "YhvC6ogzaEHT"
      },
      "execution_count": 4,
      "outputs": []
    },
    {
      "cell_type": "code",
      "source": [
        "X_train_tensor = torch.tensor(X_train, dtype=torch.float32)\n",
        "y_train_tensor = torch.tensor(y_train, dtype=torch.float32).view(-1, 1)\n",
        "X_test_tensor = torch.tensor(X_test, dtype=torch.float32)\n",
        "y_test_tensor = torch.tensor(y_test, dtype=torch.float32).view(-1, 1)"
      ],
      "metadata": {
        "id": "ht0VjANUaImU"
      },
      "execution_count": 5,
      "outputs": []
    },
    {
      "cell_type": "code",
      "source": [
        "# Name:\n",
        "# Register Number:\n",
        "class NeuralNet(nn.Module):\n",
        "  def __init__(self):\n",
        "    super().__init__()\n",
        "    self.fc1 = nn.Linear(1,8)\n",
        "    self.fc2 = nn.Linear(8, 10)\n",
        "    self.fc3 = nn.Linear(10, 1)\n",
        "    self.relu = nn.ReLU()\n",
        "    self.history = {'loss': []}\n",
        "  def forward(self, x):\n",
        "\n",
        "    x = self.relu(self.fc1(x))\n",
        "    x = self.relu(self.fc2(x))\n",
        "    x = self.fc3(x) # No activation here since it's a regression task\n",
        "    return x # Corrected indentation by replacing with a regular space"
      ],
      "metadata": {
        "id": "sFkMMUXwIsxs"
      },
      "execution_count": 16,
      "outputs": []
    },
    {
      "cell_type": "code",
      "source": [
        "ai_brain = NeuralNet()\n",
        "criterion = nn.MSELoss()\n",
        "optimizer = optim.RMSprop(ai_brain.parameters(), lr=0.001)"
      ],
      "metadata": {
        "id": "LYCcZwd3aVXr"
      },
      "execution_count": 18,
      "outputs": []
    },
    {
      "cell_type": "code",
      "source": [
        "# Name:\n",
        "# Register Number:\n",
        "def train_model(ai_brain, X_train, y_train, criterion, optimizer, epochs=3000):\n",
        "    # Write your code here\n",
        "    for epoch in range(epochs):\n",
        "        optimizer.zero_grad() # Corrected indentation to align with loop\n",
        "        loss = criterion (ai_brain (X_train), y_train) # Corrected indentation to align with loop\n",
        "        loss.backward() # Corrected indentation to align with loop\n",
        "        optimizer.step() # Corrected indentation to align with loop\n",
        "\n",
        "\n",
        "\n",
        "\n",
        "\n",
        "        ai_brain.history['loss'].append(loss.item())\n",
        "        if epoch % 200 == 0:\n",
        "            print(f'Epoch [{epoch}/{epochs}], Loss: {loss.item():.6f}')\n",
        "\n",
        "\n",
        "\n",
        "\n",
        "\n",
        "        ai_brain.history['loss'].append(loss.item())\n",
        "        if epoch % 200 == 0:\n",
        "            print(f'Epoch [{epoch}/{epochs}], Loss: {loss.item():.6f}')\n"
      ],
      "metadata": {
        "id": "j04FRGu5aabj"
      },
      "execution_count": 27,
      "outputs": []
    },
    {
      "cell_type": "code",
      "source": [
        "train_model(ai_brain, X_train_tensor, y_train_tensor, criterion, optimizer)\n"
      ],
      "metadata": {
        "id": "3nT2R4-NanGb",
        "outputId": "05905e8c-7060-4fd8-f10b-afc087440d23",
        "colab": {
          "base_uri": "https://localhost:8080/"
        }
      },
      "execution_count": 28,
      "outputs": [
        {
          "output_type": "stream",
          "name": "stdout",
          "text": [
            "Epoch [0/3000], Loss: 27.051157\n",
            "Epoch [0/3000], Loss: 27.051157\n",
            "Epoch [200/3000], Loss: 1.670937\n",
            "Epoch [200/3000], Loss: 1.670937\n",
            "Epoch [400/3000], Loss: 0.015555\n",
            "Epoch [400/3000], Loss: 0.015555\n",
            "Epoch [600/3000], Loss: 0.014023\n",
            "Epoch [600/3000], Loss: 0.014023\n",
            "Epoch [800/3000], Loss: 0.007300\n",
            "Epoch [800/3000], Loss: 0.007300\n",
            "Epoch [1000/3000], Loss: 0.010785\n",
            "Epoch [1000/3000], Loss: 0.010785\n",
            "Epoch [1200/3000], Loss: 0.013837\n",
            "Epoch [1200/3000], Loss: 0.013837\n",
            "Epoch [1400/3000], Loss: 0.010900\n",
            "Epoch [1400/3000], Loss: 0.010900\n",
            "Epoch [1600/3000], Loss: 0.011415\n",
            "Epoch [1600/3000], Loss: 0.011415\n",
            "Epoch [1800/3000], Loss: 0.011481\n",
            "Epoch [1800/3000], Loss: 0.011481\n",
            "Epoch [2000/3000], Loss: 0.011812\n",
            "Epoch [2000/3000], Loss: 0.011812\n",
            "Epoch [2200/3000], Loss: 0.011658\n",
            "Epoch [2200/3000], Loss: 0.011658\n",
            "Epoch [2400/3000], Loss: 0.011209\n",
            "Epoch [2400/3000], Loss: 0.011209\n",
            "Epoch [2600/3000], Loss: 0.011425\n",
            "Epoch [2600/3000], Loss: 0.011425\n",
            "Epoch [2800/3000], Loss: 0.011434\n",
            "Epoch [2800/3000], Loss: 0.011434\n"
          ]
        }
      ]
    },
    {
      "cell_type": "code",
      "source": [
        "with torch.no_grad():\n",
        "    test_loss = criterion(ai_brain(X_test_tensor), y_test_tensor)\n",
        "    print(f'Test Loss: {test_loss.item():.6f}')\n"
      ],
      "metadata": {
        "id": "Hs52rJD-aq-r",
        "outputId": "6eaa73c3-5aa4-4db5-8b2f-533438ce9257",
        "colab": {
          "base_uri": "https://localhost:8080/"
        }
      },
      "execution_count": 29,
      "outputs": [
        {
          "output_type": "stream",
          "name": "stdout",
          "text": [
            "Test Loss: 0.338067\n"
          ]
        }
      ]
    },
    {
      "cell_type": "code",
      "source": [
        "loss_df = pd.DataFrame(ai_brain.history)"
      ],
      "metadata": {
        "id": "fSU0R1jPYzBY"
      },
      "execution_count": 30,
      "outputs": []
    },
    {
      "cell_type": "code",
      "source": [
        "import matplotlib.pyplot as plt\n",
        "loss_df.plot()\n",
        "plt.xlabel(\"Epochs\")\n",
        "plt.ylabel(\"Loss\")\n",
        "plt.title(\"Loss during Training\")\n",
        "plt.show()"
      ],
      "metadata": {
        "id": "XRU1WLwAZuh4",
        "outputId": "d31a7428-f607-447f-ffd0-ac68fbaeacd3",
        "colab": {
          "base_uri": "https://localhost:8080/",
          "height": 472
        }
      },
      "execution_count": 31,
      "outputs": [
        {
          "output_type": "display_data",
          "data": {
            "text/plain": [
              "<Figure size 640x480 with 1 Axes>"
            ],
            "image/png": "[encoded data removed]"
          },
          "metadata": {}
        }
      ]
    },
    {
      "cell_type": "code",
      "source": [
        "X_n1_1 = torch.tensor([[10]], dtype=torch.float32)\n",
        "prediction = ai_brain(torch.tensor(scaler.transform(X_n1_1), dtype=torch.float32)).item()\n",
        "print(f'Prediction: {prediction}')"
      ],
      "metadata": {
        "id": "mr_JhBRZauxb",
        "outputId": "a4e2f3ca-1428-4294-a110-5d45767f04ea",
        "colab": {
          "base_uri": "https://localhost:8080/"
        }
      },
      "execution_count": 34,
      "outputs": [
        {
          "output_type": "stream",
          "name": "stdout",
          "text": [
            "Prediction: 50.91630172729492\n"
          ]
        }
      ]
    }
  ]
}